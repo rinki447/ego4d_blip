{
 "cells": [
  {
   "cell_type": "markdown",
   "id": "2b949f9f",
   "metadata": {},
   "source": [
    "# BLIP: Inference Demo\n",
    " - [Image Captioning](#Image-Captioning)\n",
    " - [VQA](#VQA)\n",
    " - [Feature Extraction](#Feature-Extraction)\n",
    " - [Image Text Matching](#Image-Text-Matching)"
   ]
  },
  {
   "cell_type": "code",
   "execution_count": null,
   "id": "3d95e0dd",
   "metadata": {},
   "outputs": [],
   "source": []
  },
  {
   "cell_type": "code",
   "execution_count": null,
   "id": "cbcb066b",
   "metadata": {},
   "outputs": [],
   "source": [
    "# install requirements\n",
    "import sys\n",
    "if 'google.colab' in sys.modules:\n",
    "    print('Running in Colab.')\n",
    "    !pip3 install transformers==4.15.0 timm==0.4.12 fairscale==0.4.4\n",
    "    !git clone https://github.com/salesforce/BLIP\n",
    "    %cd BLIP"
   ]
  },
  {
   "cell_type": "code",
   "execution_count": null,
   "id": "a811a65f",
   "metadata": {},
   "outputs": [],
   "source": [
    "from PIL import Image\n",
    "import requests\n",
    "import torch\n",
    "from torchvision import transforms\n",
    "from torchvision.transforms.functional import InterpolationMode\n",
    "\n",
    "device = torch.device('cuda' if torch.cuda.is_available() else 'cpu')\n",
    "\n",
    "def load_demo_image(image_size,device):\n",
    "    img_url = 'https://storage.googleapis.com/sfr-vision-language-research/BLIP/demo.jpg' \n",
    "    raw_image = Image.open(requests.get(img_url, stream=True).raw).convert('RGB')   \n",
    "\n",
    "    w,h = raw_image.size\n",
    "    display(raw_image.resize((w//5,h//5)))\n",
    "    \n",
    "    transform = transforms.Compose([\n",
    "        transforms.Resize((image_size,image_size),interpolation=InterpolationMode.BICUBIC),\n",
    "        transforms.ToTensor(),\n",
    "        transforms.Normalize((0.48145466, 0.4578275, 0.40821073), (0.26862954, 0.26130258, 0.27577711))\n",
    "        ]) \n",
    "    image = transform(raw_image).unsqueeze(0).to(device)   \n",
    "    return image"
   ]
  },
  {
   "cell_type": "markdown",
   "id": "f72f4406",
   "metadata": {},
   "source": [
    "# Image Captioning\n",
    "Perform image captioning using finetuned BLIP model"
   ]
  },
  {
   "cell_type": "code",
   "execution_count": null,
   "id": "6835daef",
   "metadata": {},
   "outputs": [],
   "source": [
    "from models.blip import blip_decoder\n",
    "\n",
    "image_size = 384\n",
    "image = load_demo_image(image_size=image_size, device=device)\n",
    "\n",
    "model_url = 'https://storage.googleapis.com/sfr-vision-language-research/BLIP/models/model_base_capfilt_large.pth'\n",
    "    \n",
    "model = blip_decoder(pretrained=model_url, image_size=image_size, vit='base')\n",
    "model.eval()\n",
    "model = model.to(device)\n",
    "\n",
    "with torch.no_grad():\n",
    "    # beam search\n",
    "    caption = model.generate(image, sample=False, num_beams=3, max_length=20, min_length=5) \n",
    "    # nucleus sampling\n",
    "    # caption = model.generate(image, sample=True, top_p=0.9, max_length=20, min_length=5) \n",
    "    print('caption: '+caption[0])"
   ]
  },
  {
   "cell_type": "markdown",
   "id": "fac320a2",
   "metadata": {},
   "source": [
    "# VQA\n",
    "Perform visual question answering using finetuned BLIP model"
   ]
  },
  {
   "cell_type": "code",
   "execution_count": null,
   "id": "5e6f3fb1",
   "metadata": {},
   "outputs": [],
   "source": [
    "from models.blip_vqa import blip_vqa\n",
    "\n",
    "image_size = 480\n",
    "image = load_demo_image(image_size=image_size, device=device)     \n",
    "\n",
    "model_url = 'https://storage.googleapis.com/sfr-vision-language-research/BLIP/models/model_base_vqa_capfilt_large.pth'\n",
    "    \n",
    "model = blip_vqa(pretrained=model_url, image_size=image_size, vit='base')\n",
    "model.eval()\n",
    "model = model.to(device)\n",
    "\n",
    "question = 'where is the woman sitting?'\n",
    "\n",
    "with torch.no_grad():\n",
    "    answer = model(image, question, train=False, inference='generate') \n",
    "    print('answer: '+answer[0])"
   ]
  },
  {
   "cell_type": "markdown",
   "id": "6100e519",
   "metadata": {},
   "source": [
    "# Feature Extraction"
   ]
  },
  {
   "cell_type": "code",
   "execution_count": null,
   "id": "4f8f21ed",
   "metadata": {},
   "outputs": [],
   "source": [
    "from models.blip import blip_feature_extractor\n",
    "\n",
    "image_size = 224\n",
    "image = load_demo_image(image_size=image_size, device=device)     \n",
    "\n",
    "model_url = 'https://storage.googleapis.com/sfr-vision-language-research/BLIP/models/model_base.pth'\n",
    "    \n",
    "model = blip_feature_extractor(pretrained=model_url, image_size=image_size, vit='base')\n",
    "model.eval()\n",
    "model = model.to(device)\n",
    "\n",
    "caption = 'a woman sitting on the beach with a dog'\n",
    "\n",
    "multimodal_feature = model(image, caption, mode='multimodal')[0,0]\n",
    "image_feature = model(image, caption, mode='image')[0,0]\n",
    "text_feature = model(image, caption, mode='text')[0,0]"
   ]
  },
  {
   "cell_type": "markdown",
   "id": "201e1146",
   "metadata": {},
   "source": [
    "# Image-Text Matching"
   ]
  },
  {
   "cell_type": "code",
   "execution_count": null,
   "id": "49ba5906",
   "metadata": {},
   "outputs": [],
   "source": [
    "from models.blip_itm import blip_itm\n",
    "\n",
    "image_size = 384\n",
    "image = load_demo_image(image_size=image_size,device=device)\n",
    "\n",
    "model_url = 'https://storage.googleapis.com/sfr-vision-language-research/BLIP/models/model_base_retrieval_coco.pth'\n",
    "    \n",
    "model = blip_itm(pretrained=model_url, image_size=image_size, vit='base')\n",
    "model.eval()\n",
    "model = model.to(device='cpu')\n",
    "\n",
    "caption = 'a woman sitting on the beach with a dog'\n",
    "\n",
    "print('text: %s' %caption)\n",
    "\n",
    "itm_output = model(image,caption,match_head='itm')\n",
    "itm_score = torch.nn.functional.softmax(itm_output,dim=1)[:,1]\n",
    "print('The image and text is matched with a probability of %.4f'%itm_score)\n",
    "\n",
    "itc_score = model(image,caption,match_head='itc')\n",
    "print('The image feature and text feature has a cosine similarity of %.4f'%itc_score)"
   ]
  },
  {
   "cell_type": "code",
   "execution_count": 1,
   "id": "10803afe",
   "metadata": {},
   "outputs": [
    {
     "name": "stdout",
     "output_type": "stream",
     "text": [
      "total valid training files 63766\n",
      "dataset loaded\n",
      "llava file name /data/AmitRoyChowdhury/Anirudh/llava_object_responses/5f4558be-ecb4-4597-871f-cf1221301f91_start_frame_143_end_frame_383.pkl\n",
      "/data/AmitRoyChowdhury/Anirudh/llava_object_responses/5f4558be-ecb4-4597-871f-cf1221301f91_start_frame_143_end_frame_383.pkl\n",
      "['a person wearing blue gloves is kneading dough on a countertop, with a bowl of flour and a dough sheet', 'a person wearing blue gloves is kneading dough on a metal surface, with two bowls of dough and two pans', 'a person wearing blue gloves is kneading dough on a countertop, with a bowl of flour and a spoon nearby', 'a person wearing blue gloves is kneading dough on a table, with a bowl and a spoon nearby', 'a person wearing blue gloves is placing a piece of paper on a table, with a dough sheet and a', 'a person wearing blue gloves is placing a piece of dough on a table, with a knife and a spatula', 'a person wearing blue gloves is placing a piece of dough on a table, and there are two other pieces', 'a person wearing blue gloves is making pizza dough on a table, with two pizza doughs and a pair of', 'a person wearing blue gloves is making two pizzas on a table, with one pizza on a pan and the', 'a person wearing blue gloves is placing a piece of dough on a metal tray, which is on a table', 'a person wearing blue gloves is placing a square food item onto a metal tray', 'in the image, a person is kneading dough on a countertop, with two bowls and a spoon involved in the', 'a person is kneeling down and using a blue glove to scoop up some dough from a tray on a', 'in the image, a person is kneading dough on a table, with a bowl of flour, a spoon, and a', 'in the image, a person is holding a piece of metal, possibly a metal plate, and is in the process', 'in the image, a person is taking a picture of a kitchen floor, capturing the tiled floor and the various']\n",
      "touch\n"
     ]
    },
    {
     "ename": "NameError",
     "evalue": "name 'groun_noun' is not defined",
     "output_type": "error",
     "traceback": [
      "\u001b[0;31m---------------------------------------------------------------------------\u001b[0m",
      "\u001b[0;31mNameError\u001b[0m                                 Traceback (most recent call last)",
      "Cell \u001b[0;32mIn[1], line 40\u001b[0m\n\u001b[1;32m     38\u001b[0m \u001b[38;5;28mprint\u001b[39m(caption)\n\u001b[1;32m     39\u001b[0m \u001b[38;5;28mprint\u001b[39m(ground_verb)\n\u001b[0;32m---> 40\u001b[0m \u001b[38;5;28mprint\u001b[39m(\u001b[43mgroun_noun\u001b[49m)\n\u001b[1;32m     41\u001b[0m exit()\n",
      "\u001b[0;31mNameError\u001b[0m: name 'groun_noun' is not defined"
     ]
    }
   ],
   "source": [
    "#from models.blip_pretrain_ego4d import blip_pretrain_ego4d\n",
    "import torch\n",
    "from data.ego4d import Ego4dDataset\n",
    "\n",
    "'''\n",
    "def blip_pretrain_ego4d(**kwargs):\n",
    "    model = BLIP_Ego4d(**kwargs)\n",
    "    return model '''\n",
    "\n",
    "'''num_frames=16\n",
    "verb_classes=117\n",
    "noun_classes=483\n",
    "caption=[\"one\",\"two\",\"three\",\"four\",\"five\",\"six\",\"seven\",\"eight\",\"nine\",\"ten\",\"eleven\",\"tweleve\",\"thirteen\",\"fourteen\",\"fifteen\",\"sixteen\",\"one\",\"two\",\"three\",\"four\",\"five\",\"six\",\"seven\",\"eight\",\"nine\",\"ten\",\"eleven\",\"tweleve\",\"thirteen\",\"fourteen\",\"fifteen\",\"sixteen\"]\n",
    "noun_labels=torch.tensor([2,3]) #\"box\"\n",
    "verb_labels=torch.tensor([3,5]) #\"put\"'''\n",
    "\n",
    "\n",
    "\n",
    "#model = blip_pretrain_ego4d(num_frames=num_frames, verb_classes=verb_classes, noun_classes=noun_classes, vision_width=512, med_config='configs/bert_config.json', embed_dim=256, queue_size=57600, momentum=0.995)\n",
    "\n",
    "#out=model(caption, noun_labels, verb_labels,device,vid_feature=None)''''''\n",
    "\n",
    "\n",
    "annots_dir_train = \"/data/AmitRoyChowdhury/ego4d_data/v2/annotations/fho_lta_train.json\"\n",
    "annots_dir_test = \"/data/AmitRoyChowdhury/ego4d_data/v2/annotations/fho_lta_test.json\"\n",
    "llava_captions_path = \"/data/AmitRoyChowdhury/Anirudh/llava_object_responses/\"\n",
    "taxonomy_path = \"/data/AmitRoyChowdhury/ego4d_data/v2/annotations/fho_lta_taxonomy.json\"\n",
    "short_annot_train_path=\"/data/AmitRoyChowdhury/ego4d_data/v2/annotations/fho_lta_train_short.json\"\n",
    "short_annot_test_path=\"/data/AmitRoyChowdhury/ego4d_data/v2/annotations/fho_lta_val_short.json\"  #the path is correct, no worries\n",
    "\n",
    "train_dataset = Ego4dDataset(mode='train',annots_path=annots_dir_train,taxonomy_path=taxonomy_path,llava_captions_path=llava_captions_path, short_annot_path=short_annot_train_path) \n",
    "#test_dataset = Ego4dDataset(mode='test',annots_path=annots_dir_test,taxonomy_path=taxonomy_path,llava_captions_path=llava_captions_path, short_annot_path=short_annot_test_path) \n",
    "\n",
    "print(\"dataset loaded\")\n",
    "\n",
    "for i,(vid,caption,ground_verb,ground_noun) in enumerate(train_dataset):\n",
    "    print(vid)\n",
    "    print(caption)\n",
    "    print(ground_verb)\n",
    "    print(groun_noun)\n",
    "    exit()"
   ]
  },
  {
   "cell_type": "code",
   "execution_count": null,
   "id": "52d90df6",
   "metadata": {},
   "outputs": [],
   "source": []
  }
 ],
 "metadata": {
  "kernelspec": {
   "display_name": "Python 3 (ipykernel)",
   "language": "python",
   "name": "python3"
  },
  "language_info": {
   "codemirror_mode": {
    "name": "ipython",
    "version": 3
   },
   "file_extension": ".py",
   "mimetype": "text/x-python",
   "name": "python",
   "nbconvert_exporter": "python",
   "pygments_lexer": "ipython3",
   "version": "3.10.14"
  }
 },
 "nbformat": 4,
 "nbformat_minor": 5
}
